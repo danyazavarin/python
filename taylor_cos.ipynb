{
 "cells": [
  {
   "cell_type": "code",
   "execution_count": null,
   "metadata": {},
   "outputs": [],
   "source": [
    "import math\n",
    "import matplotlib.pyplot as plt\n",
    "\n",
    "ITERATIONS = 20\n",
    "\n",
    "def my_cos(x):\n",
    "    x_pow = 1\n",
    "    multiplier = 1\n",
    "    partial_sum = 1\n",
    "    for n in range(1, ITERATIONS):\n",
    "        x_pow = x**2  \n",
    "        multiplier *= -1 / (2*n-1) / (2*n)  \n",
    "        partial_sum += x_pow * multiplier\n",
    "        plt.plot (n, partial_sum)\n",
    "    return partial_sum\n",
    "\n",
    "print (math.cos(0.4))\n",
    "print (my_cos(0.4))"
   ]
  }
 ],
 "metadata": {
  "kernelspec": {
   "display_name": "Python 3",
   "language": "python",
   "name": "python3"
  },
  "language_info": {
   "codemirror_mode": {
    "name": "ipython",
    "version": 3
   },
   "file_extension": ".py",
   "mimetype": "text/x-python",
   "name": "python",
   "nbconvert_exporter": "python",
   "pygments_lexer": "ipython3",
   "version": "3.8.3"
  }
 },
 "nbformat": 4,
 "nbformat_minor": 4
}
